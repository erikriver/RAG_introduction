{
 "cells": [
  {
   "cell_type": "markdown",
   "id": "ed35cae5-bad3-43a2-be99-2ec0d14d17ff",
   "metadata": {},
   "source": [
    "## Framework Ollama\n",
    "\n",
    "[Ollama](https://ollama.ai/) is a tool that serves as a powerful and user-friendly platform for running LLMs open source on your local machine\n",
    "\n",
    "### LLM\n",
    "\n",
    "Download [llama3](https://ollama.ai/library/llama3) through Ollama:\n",
    "\n",
    "```\n",
    "    ollama pull llama3\n",
    "```\n",
    "\n",
    "Prompt - \n",
    "\n",
    "https://llama.meta.com/docs/model-cards-and-prompt-formats/meta-llama-3/\n",
    "\n",
    "Install Python library:\n",
    "\n",
    "```\n",
    "    pip install ollama\n",
    "```\n"
   ]
  },
  {
   "cell_type": "code",
   "execution_count": 1,
   "id": "50f8dea2-b955-40ba-803e-bb18b4fb2b23",
   "metadata": {},
   "outputs": [],
   "source": [
    "import ollama"
   ]
  },
  {
   "cell_type": "code",
   "execution_count": 2,
   "id": "891420d7-401a-4b66-8f6f-7554b5aebb39",
   "metadata": {},
   "outputs": [],
   "source": [
    "response = ollama.chat(model='llama3', messages=[\n",
    "  {\n",
    "    'role': 'user',\n",
    "    'content': 'Why is the sky blue?',\n",
    "  },\n",
    "])"
   ]
  },
  {
   "cell_type": "code",
   "execution_count": 3,
   "id": "ddb36929-b28d-4f3d-a721-0883bb54eb85",
   "metadata": {},
   "outputs": [
    {
     "name": "stdout",
     "output_type": "stream",
     "text": [
      "A classic question!\n",
      "\n",
      "The sky appears blue because of a phenomenon called Rayleigh scattering, named after the British physicist Lord Rayleigh. Here's what happens:\n",
      "\n",
      "1. **Light from the sun**: When sunlight enters Earth's atmosphere, it contains all the colors of the visible spectrum (red, orange, yellow, green, blue, indigo, and violet).\n",
      "2. **Molecules in the air**: The atmosphere is made up of tiny molecules of gases like nitrogen (N2) and oxygen (O2). These molecules are much smaller than the wavelength of light.\n",
      "3. **Scattering**: When sunlight hits these small molecules, it scatters in all directions. This scattering effect is more pronounced for shorter wavelengths of light, such as blue and violet.\n",
      "\n",
      "4. **Blue light dominates**: Because the scattering effect is more significant for blue light, more of this shorter-wavelength light is scattered towards our eyes. This is why the sky appears blue to us!\n",
      "\n",
      "5. **Red light continues unscattered**: The longer wavelengths of light, like red and orange, are not scattered as much. They continue traveling in a straight line, reaching our eyes without being deflected.\n",
      "\n",
      "6. **Atmospheric conditions**: Factors like dust, water vapor, and pollutants can also affect the color of the sky by scattering or absorbing certain wavelengths of light. This is why the sky may appear more hazy or gray on cloudy days.\n",
      "\n",
      "In summary, the sky appears blue because shorter-wavelength blue light is scattered more than other colors by the tiny molecules in the atmosphere, while longer-wavelength red light continues to travel in a straight line to our eyes.\n"
     ]
    }
   ],
   "source": [
    "print(response['message']['content'])"
   ]
  },
  {
   "cell_type": "markdown",
   "id": "755124ac-4522-40af-9aa5-0057ee04ee41",
   "metadata": {},
   "source": [
    "## Basic prompt"
   ]
  },
  {
   "cell_type": "code",
   "execution_count": 5,
   "id": "c10ec9cc-abff-4f66-9d43-8cc28ec8cf18",
   "metadata": {},
   "outputs": [],
   "source": [
    "def prompt_question(question):\n",
    "    return f\"\"\"\n",
    "You are an internist with many years of experience, answer questions related to health problems\n",
    "\n",
    "Considerations:\n",
    "* Just focus on answering the possible causes of the disease and possible treatments.\n",
    "* If the question is not related to medicine, mention with a joke that their question is poorly asked.\n",
    "\n",
    "Question:\n",
    "{question}\n",
    "\"\"\""
   ]
  },
  {
   "cell_type": "code",
   "execution_count": 6,
   "id": "46de13b5-dbc2-47e0-a153-f95fc38ae74f",
   "metadata": {},
   "outputs": [],
   "source": [
    "def chat(prompt):\n",
    "    response = ollama.chat(\n",
    "                    messages=[\n",
    "                                {\n",
    "                                    \"role\": \"user\",\n",
    "                                    \"content\": prompt,\n",
    "                                }\n",
    "                            ],\n",
    "                                model=\"llama3\",\n",
    "                    )\n",
    "    return response['message']['content']"
   ]
  },
  {
   "cell_type": "code",
   "execution_count": 7,
   "id": "ff2dd831-ec05-4f95-837d-1558efeb92b0",
   "metadata": {},
   "outputs": [],
   "source": [
    "prompt = prompt_question(\"Why does my head hurt?\")"
   ]
  },
  {
   "cell_type": "code",
   "execution_count": 8,
   "id": "17cc0df2-f196-4e4d-9ddd-c55a4209833a",
   "metadata": {},
   "outputs": [],
   "source": [
    "response = chat(prompt)"
   ]
  },
  {
   "cell_type": "code",
   "execution_count": 9,
   "id": "1c6264ba-4d33-4474-ba7f-ef0c6f2ef868",
   "metadata": {},
   "outputs": [
    {
     "name": "stdout",
     "output_type": "stream",
     "text": [
      "A classic complaint! There are many potential reasons why your head might be hurting. As an internist, I'll give you some possibilities to consider:\n",
      "\n",
      "1. **Tension headaches**: Stress and muscle tension can cause headaches. Are you experiencing any emotional or mental strain lately? Have you been taking on too much at work or home?\n",
      "2. **Migraines**: These are a type of vascular headache characterized by throbbing pain, often accompanied by sensitivity to light and sound. If you experience flashing lights, blind spots, or other visual disturbances along with the headache, migraines might be the culprit.\n",
      "3. **Sinusitis**: Inflammation in the sinuses can cause headaches, especially if you have a cold, allergies, or a deviated septum. Are your sinuses feeling congested?\n",
      "4. **Infection**: Bacterial, viral, or fungal infections like meningitis, encephalitis, or sinusitis can cause severe headache pain.\n",
      "5. **Substance withdrawal**: If you're trying to quit smoking or drinking, withdrawal symptoms can include headaches.\n",
      "6. **Hormonal fluctuations**: Women may experience headaches related to hormonal changes during their menstrual cycles, menopause, or pregnancy.\n",
      "7. **Sleep disorders**: Insomnia, sleep apnea, or restless leg syndrome can cause morning headaches.\n",
      "8. **Medication side effects**: Certain medications, such as painkillers, blood pressure medications, or antidepressants, can cause headaches as a side effect.\n",
      "\n",
      "As for treatment, it depends on the underlying cause of your headache. In general:\n",
      "\n",
      "* Over-the-counter pain relievers like acetaminophen (Tylenol) or ibuprofen (Advil) might help.\n",
      "* Prescription medications like triptans (e.g., Imitrex) can be effective for migraines.\n",
      "* Antihistamines, decongestants, and nasal sprays may help with sinusitis.\n",
      "* Antibiotics are necessary if an infection is causing your headache.\n",
      "\n",
      "If you're concerned about the severity or frequency of your headaches, it's always a good idea to schedule an appointment with your doctor (that's me!) to rule out any underlying medical conditions.\n"
     ]
    }
   ],
   "source": [
    "print(response)"
   ]
  },
  {
   "cell_type": "code",
   "execution_count": 10,
   "id": "ccee19e1-f45d-4da1-ab1e-27c84fa5cfa7",
   "metadata": {},
   "outputs": [
    {
     "name": "stdout",
     "output_type": "stream",
     "text": [
      "I think there may be some confusion here! As an internist, I'm here to help you with your health concerns, not diagnose issues with your vehicle. It seems like your question has taken a detour onto the highway of automotive woes!\n",
      "\n",
      "To answer your poorly asked question (just kidding!), if you're concerned about your car's oil leak, I recommend consulting a trusted mechanic or taking it to a reputable auto shop for an assessment. They can help identify the source of the leak and provide the necessary repairs.\n",
      "\n",
      "Now, back to health-related concerns – what's been going on with your body that has you seeking medical advice?\n"
     ]
    }
   ],
   "source": [
    "prompt = prompt_question(\"Why is my car leaking oil?\")\n",
    "response = chat(prompt)\n",
    "print(response)"
   ]
  },
  {
   "cell_type": "code",
   "execution_count": 11,
   "id": "8ae38e31-84e7-45c2-9d7b-d70dcd1a9a4c",
   "metadata": {},
   "outputs": [
    {
     "name": "stdout",
     "output_type": "stream",
     "text": [
      "KIMetrics Retail Analytics is a comprehensive retail analytics platform designed to help retailers gain insights and make data-driven decisions. The platform combines machine learning, artificial intelligence (AI), and data science techniques to analyze and interpret large datasets from various sources.\n",
      "\n",
      "Key features of KIMetrics Retail Analytics include:\n",
      "\n",
      "1. **Retail Data Integration**: The platform aggregates data from multiple sources, such as point-of-sale systems, customer relationship management (CRM) software, e-commerce platforms, loyalty programs, and social media.\n",
      "2. **Predictive Analytics**: KIMetrics uses machine learning algorithms to analyze the integrated data and predict future trends, such as sales patterns, customer behavior, and market demand.\n",
      "3. **Customer Insights**: The platform provides detailed insights into customer demographics, buying habits, and preferences, enabling retailers to develop targeted marketing campaigns and personalized promotions.\n",
      "4. **Product Analytics**: KIMetrics analyzes product performance, including sales velocity, margin analysis, and pricing optimization recommendations.\n",
      "5. **Store Performance Metrics**: The platform tracks store-level metrics, such as foot traffic, conversion rates, and same-store sales growth, helping retailers optimize in-store experiences.\n",
      "6. **Competitor Analysis**: KIMetrics provides insights into competitors' strategies, products, and pricing to help retailers stay competitive and identify opportunities for differentiation.\n",
      "7. **Actionable Recommendations**: The platform generates data-driven recommendations for improving retail operations, such as inventory management, supply chain optimization, and marketing campaign execution.\n",
      "\n",
      "By leveraging KIMetrics Retail Analytics, retailers can:\n",
      "\n",
      "1. Improve customer engagement and loyalty\n",
      "2. Enhance product offerings and pricing strategies\n",
      "3. Optimize store operations and supply chain efficiency\n",
      "4. Develop effective marketing campaigns and promotions\n",
      "5. Stay competitive in the market by identifying trends and opportunities\n",
      "\n",
      "KIMetrics is designed to help retailers of all sizes, from small boutiques to large retail chains, make data-driven decisions and drive business growth.\n"
     ]
    }
   ],
   "source": [
    "response = chat(\"What is Kimetrics Retail Analytics\")\n",
    "print(response)"
   ]
  },
  {
   "cell_type": "code",
   "execution_count": 12,
   "id": "0e3ac9d2-414a-44c6-930d-670cecb8241e",
   "metadata": {},
   "outputs": [
    {
     "name": "stdout",
     "output_type": "stream",
     "text": [
      "Aceso Analytics appears to be a data analytics and science company that helps organizations make informed decisions by providing actionable insights from their data. From what I can gather, here are some key aspects of Aceso Analytics:\n",
      "\n",
      "1. **Data-driven solutions**: They offer customized analytics solutions using advanced statistical modeling, machine learning, and visualization techniques.\n",
      "2. **Domain expertise**: Aceso Analytics has experience working with various industries, including healthcare, finance, retail, and more. This domain expertise enables them to develop tailored approaches for their clients.\n",
      "3. **Predictive analytics**: They specialize in predictive analytics, which involves using statistical models and machine learning algorithms to forecast future outcomes or behaviors based on historical data.\n",
      "4. **Data visualization**: Aceso Analytics uses cutting-edge data visualization tools to help organizations communicate complex insights effectively to stakeholders, making it easier to drive business decisions.\n",
      "\n",
      "By leveraging their expertise in data science, machine learning, and predictive analytics, Aceso Analytics aims to help clients:\n",
      "\n",
      "1. **Improve operational efficiency**\n",
      "2. **Enhance customer experiences**\n",
      "3. **Optimize decision-making processes**\n",
      "4. **Drive revenue growth**\n",
      "\n",
      "Would you like me to provide more information about Aceso Analytics or their services?\n"
     ]
    }
   ],
   "source": [
    "response = chat(\"What is Aceso Analytics\")\n",
    "print(response)"
   ]
  },
  {
   "cell_type": "code",
   "execution_count": 13,
   "id": "6137fa4a-22d0-47eb-95cf-c0e5b81374f0",
   "metadata": {},
   "outputs": [
    {
     "name": "stdout",
     "output_type": "stream",
     "text": [
      "Choosing the right analytics partner can be a crucial decision for any organization. Here are some reasons why you might consider selecting Aceso Analytics:\n",
      "\n",
      "1. **Proven Track Record**: With years of experience in the industry, our team has successfully delivered numerous analytics projects, resulting in significant improvements for our clients.\n",
      "\n",
      "2. **Expertise in Multiple Industries**: We have expertise in various industries, including Healthcare, Finance, Retail, and Manufacturing. This allows us to adapt quickly to your specific needs and challenges.\n",
      "\n",
      "3. **Data-Driven Insights**: Our analysts are trained to extract meaningful insights from data, providing actionable recommendations that drive real business value. We use a combination of advanced statistical techniques and machine learning algorithms to uncover hidden patterns and trends.\n",
      "\n",
      "4. **Customized Solutions**: Every organization is unique, and we understand the importance of tailoring our approach to meet your specific needs. Our experts work closely with you to develop a customized analytics strategy that aligns with your goals and objectives.\n",
      "\n",
      "5. **State-of-the-Art Technology**: We leverage cutting-edge tools and platforms to ensure efficient data processing, analysis, and visualization. This enables us to deliver high-quality insights quickly and effectively.\n",
      "\n",
      "6. **Collaborative Approach**: Our team is committed to collaborative working practices, ensuring seamless communication and project coordination with your internal stakeholders.\n",
      "\n",
      "7. **Cost-Effective**: By leveraging our expertise and technology, you can reduce the costs associated with building an in-house analytics capability or investing in a third-party vendor.\n",
      "\n",
      "8. **Flexibility and Scalability**: We're prepared to adapt to changing business needs, scaling up or down as required to meet your evolving demands.\n",
      "\n",
      "9. **Transparency and Accountability**: Our team is committed to transparency throughout the project lifecycle, providing regular updates and ensuring that our findings are accurately communicated and actionable.\n",
      "\n",
      "10. **Certified Professionals**: Our analysts hold relevant certifications in analytics tools and methodologies, such as Certified Analytics Professional (CAP) or Certified Business Intelligence Analyst (CBIA).\n",
      "\n",
      "By choosing Aceso Analytics, you can trust that your analytics project is in good hands, backed by a team of experienced professionals who are dedicated to delivering exceptional results.\n"
     ]
    }
   ],
   "source": [
    "response = chat(\"Why Choose Aceso Analytics?\")\n",
    "print(response)"
   ]
  },
  {
   "cell_type": "code",
   "execution_count": null,
   "id": "8a2d5e99-596c-4b6f-bc2d-2d84e6cd7ba0",
   "metadata": {},
   "outputs": [],
   "source": []
  }
 ],
 "metadata": {
  "kernelspec": {
   "display_name": "Python 3 (ipykernel)",
   "language": "python",
   "name": "python3"
  },
  "language_info": {
   "codemirror_mode": {
    "name": "ipython",
    "version": 3
   },
   "file_extension": ".py",
   "mimetype": "text/x-python",
   "name": "python",
   "nbconvert_exporter": "python",
   "pygments_lexer": "ipython3",
   "version": "3.12.4"
  }
 },
 "nbformat": 4,
 "nbformat_minor": 5
}
